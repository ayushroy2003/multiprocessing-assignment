{
 "cells": [
  {
   "cell_type": "markdown",
   "id": "acb6c4c5-67cd-405d-993a-3d0c6cf8770f",
   "metadata": {},
   "source": [
    "Q1. What is multiprocessing in python? Why is it useful?\n",
    "\n",
    "Ans - \n",
    "multiprocessing module provides a simple and consistent way to create and manage multiple processes. Each process runs independently with its own memory space and Python interpreter\n",
    "\n",
    "Multiprocessing in Python allows you to run multiple processes concurrently, utilizing multiple CPU cores, which can significantly improve performance for CPU-bound tasks by enabling parallel execution."
   ]
  },
  {
   "cell_type": "markdown",
   "id": "fbc65fc6-d7d7-4e80-9b1a-8c89b299c85e",
   "metadata": {},
   "source": [
    " What are the differences between multiprocessing and multithreading?\n",
    "\n",
    "Ans -\n",
    "Multiprocessing and multithreading are both techniques for achieving parallelism in computer programs, but they differ in how they create and manage concurrent tasks. Here are the key differences between them:\n",
    "\n",
    "Process vs. Thread:\n",
    "\n",
    "Multiprocessing uses multiple processes, where each process has its own memory space and Python interpreter. Processes are separate, independent entities that run in their own environments.\n",
    "Multithreading, on the other hand, uses multiple threads within a single process. Threads share the same memory space and resources of the parent process.\n",
    "\n",
    "Parallelism:\n",
    "\n",
    "Multiprocessing takes full advantage of multi-core processors and can run tasks in parallel, potentially providing significant performance improvements for CPU-bound tasks.\n",
    "Multithreading is limited by the Global Interpreter Lock (GIL) in CPython, which prevents multiple threads from executing Python code in true parallel. As a result, multithreading is often less effective at utilizing multiple CPU cores for CPU-bound tasks.\n",
    "\n",
    "Use Cases:\n",
    "\n",
    "Multiprocessing is well-suited for CPU-bound tasks, parallelizable problems, and situations where strong isolation between tasks is required.\n",
    "Multithreading is often used for I/O-bound tasks, where tasks spend a lot of time waiting for input/output operations (e.g., file operations, network requests), and where concurrency is needed but the performance benefit of utilizing multiple cores is less critical.\n"
   ]
  },
  {
   "cell_type": "markdown",
   "id": "8da7730b-1e21-499c-a457-92266b0eb274",
   "metadata": {},
   "source": [
    "Q3. Write a python code to create a process using the multiprocessing module.\n",
    "\n",
    "ANs -"
   ]
  },
  {
   "cell_type": "code",
   "execution_count": 1,
   "id": "98331378-39b2-4a94-95bb-481fd8bfa6c3",
   "metadata": {},
   "outputs": [
    {
     "name": "stdout",
     "output_type": "stream",
     "text": [
      "student are studying\n"
     ]
    }
   ],
   "source": [
    "import multiprocessing\n",
    "\n",
    "def student_function():\n",
    "    print(\"student are studying\")\n",
    "    \n",
    "if __name__ == '__main__' :\n",
    "    process = multiprocessing.Process(target=student_function)\n",
    "    process.start()\n",
    "    process.join()\n",
    "    "
   ]
  },
  {
   "cell_type": "markdown",
   "id": "24c75359-3886-4aa2-9392-1043c268dec0",
   "metadata": {},
   "source": [
    "Q4. What is a multiprocessing pool in python? Why is it used?\n",
    "\n",
    "Ans -"
   ]
  },
  {
   "cell_type": "markdown",
   "id": "c07296a7-4fbe-4e6b-a5b3-77d5ba6b1f23",
   "metadata": {},
   "source": [
    "A multiprocessing pool in Python, created using the multiprocessing.Pool class, is a high-level abstraction for parallelizing the execution of functions across multiple input values or tasks. It offers a way to efficiently distribute and manage work among a group of worker processes. Here's a more detailed explanation of why multiprocessing pools are used:\n",
    "\n",
    "Parallel Execution: Multiprocessing pools are used to achieve parallelism in Python programs. When you have a set of tasks or a function that needs to be executed with different input values, a pool allows you to run these tasks concurrently across multiple processes. This concurrent execution can significantly improve the performance of your program, especially for CPU-bound tasks, as it takes full advantage of multi-core processors.\n",
    "\n",
    "Efficient Resource Management: Pools manage the creation and reuse of worker processes. Creating and tearing down processes manually can be resource-intensive and time-consuming. Pools handle this process management automatically, reducing overhead. Worker processes in the pool can be reused for multiple tasks, making the execution of tasks more efficient.\n",
    "\n",
    "Simplified Code: Multiprocessing pools simplify the code required for parallel processing. You don't need to manually create and start individual processes. Instead, you can focus on defining the task or function to be executed and the input data. The pool takes care of distributing the tasks, managing processes, and collecting results. This leads to cleaner, more readable, and less error-prone code.\n",
    "\n",
    "Task Synchronization: Pools offer convenient methods for task synchronization and result retrieval. For example, the map method in a pool applies a function to a list of input values, ensuring that the tasks are executed in parallel and returning the results in the same order as the input. Other methods like apply, imap, and imap_unordered provide various options for parallel task execution and result retrieval.\n",
    "\n",
    "Load Balancing: Multiprocessing pools often have built-in load balancing mechanisms. They automatically distribute tasks among available worker processes, ensuring that the workload is evenly spread, which can be especially useful when the processing time for individual tasks varies."
   ]
  },
  {
   "cell_type": "markdown",
   "id": "524d549a-cb0e-4fd0-9b28-b8056665654b",
   "metadata": {},
   "source": [
    "Q5. How can we create a pool of worker processes in python using the multiprocessing module?\n",
    "\n",
    "ANS - \n",
    "it will create a pool of worker processes and distributed the tasks to be executed in parallel, making it an efficent way to take adavantage of multicore processes and paralleize tasks in your python program\n",
    "\n",
    "below answer "
   ]
  },
  {
   "cell_type": "code",
   "execution_count": 4,
   "id": "15d5ebb9-7bda-4dce-a765-176ca97ab57d",
   "metadata": {},
   "outputs": [
    {
     "name": "stdout",
     "output_type": "stream",
     "text": [
      "[2, 4, 6, 10, 12, 14]\n"
     ]
    }
   ],
   "source": [
    "import multiprocessing\n",
    "\n",
    "def worker_function(x):\n",
    "    return x*2\n",
    "\n",
    "if __name__ == \"__main__\" :\n",
    "    \n",
    "    data = [1,2,3,5,6,7,]\n",
    "    \n",
    "    with multiprocessing.Pool(processes=4) as pool :\n",
    "        result = pool.map(worker_function , data)\n",
    "        \n",
    "    print(result)"
   ]
  },
  {
   "cell_type": "markdown",
   "id": "08e0bdc4-265b-48aa-8610-9e62de5625f9",
   "metadata": {},
   "source": [
    "Q6. Write a python program to create 4 processes, each process should print a different number using the\n",
    "multiprocessing module in python.\n",
    "\n",
    "ANS - "
   ]
  },
  {
   "cell_type": "code",
   "execution_count": 11,
   "id": "3da478a3-43af-46fd-a274-399b842d6400",
   "metadata": {},
   "outputs": [
    {
     "name": "stdout",
     "output_type": "stream",
     "text": [
      "Process 1: 1Process 3: 3Process 2: 2Process 4: 4\n",
      "\n",
      "\n",
      "\n"
     ]
    }
   ],
   "source": [
    "import multiprocessing\n",
    "\n",
    "def print_number(number):\n",
    "    print(f\"Process {number}: {number}\")\n",
    "\n",
    "if __name__ == \"__main__\":\n",
    "    \n",
    "    numbers = [1, 2, 3, 4]\n",
    "\n",
    "    \n",
    "    with multiprocessing.Pool(processes=4) as pool:\n",
    "        \n",
    "        pool.map(print_number, numbers)\n"
   ]
  },
  {
   "cell_type": "code",
   "execution_count": null,
   "id": "629993d0-83df-4ca9-abd5-9c1bf2777544",
   "metadata": {},
   "outputs": [],
   "source": []
  }
 ],
 "metadata": {
  "kernelspec": {
   "display_name": "Python 3 (ipykernel)",
   "language": "python",
   "name": "python3"
  },
  "language_info": {
   "codemirror_mode": {
    "name": "ipython",
    "version": 3
   },
   "file_extension": ".py",
   "mimetype": "text/x-python",
   "name": "python",
   "nbconvert_exporter": "python",
   "pygments_lexer": "ipython3",
   "version": "3.10.8"
  }
 },
 "nbformat": 4,
 "nbformat_minor": 5
}
